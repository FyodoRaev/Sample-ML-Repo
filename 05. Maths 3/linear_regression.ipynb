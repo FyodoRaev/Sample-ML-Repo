{
 "cells": [
  {
   "cell_type": "markdown",
   "metadata": {},
   "source": [
    "# Это линейная регрессия с регуляризацией"
   ]
  },
  {
   "cell_type": "markdown",
   "metadata": {},
   "source": [
    "Мы уже успели реализовать линейную регрессию на лекции \n",
    "\n",
    " $Linear\\quad Regression = \\langle x , w \\rangle $\n",
    "\n",
    "Оптимизировали же мы нашу модель, уменьшая евклидово расстояние между примерами и предсказаниями нашей модели : $MSE= \\sum_i(y_i-x_i^Tw)^2=||Y-Xw||_2^2$\n",
    "Однако так модель может найти \"идеальные\" или около того параметры на тренировочных данных, однако тренировочные данные не позволяют модели обобщиться, а значит не позволяют добиться того, чего мы хочем.\n",
    "Чтобы модель не \"подгонялась\" под тренировочные данные люди решили добавлять в функцию потерь штраф за большие веса(статистически доказано, что переобучение связано с высокими весами). Методы, назначенные на борьбу с переобучением моделей называются регуляризацией.\n",
    "Собственно говоря, здесь я реализовал один из способов - ridge-regression."
   ]
  },
  {
   "cell_type": "code",
   "execution_count": 1,
   "metadata": {},
   "outputs": [],
   "source": [
    "import numpy as np\n",
    "import warnings\n",
    "warnings.filterwarnings(\"ignore\")"
   ]
  },
  {
   "cell_type": "code",
   "execution_count": null,
   "metadata": {},
   "outputs": [],
   "source": []
  }
 ],
 "metadata": {
  "interpreter": {
   "hash": "e7370f93d1d0cde622a1f8e1c04877d8463912d04d973331ad4851f04de6915a"
  },
  "kernelspec": {
   "display_name": "Python 3.10.2 64-bit",
   "language": "python",
   "name": "python3"
  },
  "language_info": {
   "codemirror_mode": {
    "name": "ipython",
    "version": 3
   },
   "file_extension": ".py",
   "mimetype": "text/x-python",
   "name": "python",
   "nbconvert_exporter": "python",
   "pygments_lexer": "ipython3",
   "version": "3.10.3"
  },
  "orig_nbformat": 4
 },
 "nbformat": 4,
 "nbformat_minor": 2
}
