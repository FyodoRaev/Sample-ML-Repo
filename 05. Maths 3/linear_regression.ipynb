{
 "cells": [
  {
   "cell_type": "markdown",
   "metadata": {},
   "source": [
    "# Это линейная регрессия с регуляризацией"
   ]
  },
  {
   "cell_type": "markdown",
   "metadata": {},
   "source": [
    "Мы уже успели реализовать линейную регрессию на лекции \n",
    "\n",
    " $Linear\\quad Regression = \\langle x , w \\rangle $\n",
    "\n",
    "Оптимизировали же мы нашу модель, уменьшая евклидово расстояние между примерами и предсказаниями нашей модели : $MSE= \\sum_i(y_i-x_i^Tw)^2=||Y-Xw||_2^2$\n",
    "Однако так модель может найти \"идеальные\" или около того параметры на тренировочных данных, однако тренировочные данные не позволяют модели обобщиться, а значит не позволяют добиться того, чего мы хочем.\n",
    "Чтобы модель не \"подгонялась\" под тренировочные данные люди решили добавлять в функцию потерь штраф за большие веса(статистически доказано, что переобучение связано с высокими весами). Методы, назначенные на борьбу с переобучением моделей называются регуляризацией.\n",
    "Собственно говоря, здесь я реализовал один из способов - ridge-regression."
   ]
  },
  {
   "cell_type": "markdown",
   "metadata": {},
   "source": [
    "В гребневой регрессии мы штрафуем модель также на сумму квадратов ее весов, таким образом:\n",
    "\n",
    "$Cost:L(w) = ||Xw - Y||^2_2 + \\lambda||w||^2_2$, где $\\lambda$ - гиперпараметр, т.е. задается до начала обучения.\n",
    "\n",
    "Значения признаков должны быть стандартизированы для одинаковых штрафов относительо друг друга.\n",
    "Ниже я реализовал обычную линейную регрессию с градиентной оптимизацией."
   ]
  },
  {
   "cell_type": "code",
   "execution_count": 4,
   "metadata": {},
   "outputs": [],
   "source": [
    "import numpy as np\n",
    "from sklearn import datasets\n",
    "from sklearn.linear_model import LinearRegression, Lasso, Ridge\n",
    "from sklearn.metrics import mean_squared_error\n",
    "class MyLinearRegression:\n",
    "    def __init__(self, fit_intercept=True):\n",
    "        self.fit_intercept = fit_intercept\n",
    "        self.w = None\n",
    "        self.n_sample = n_sample\n",
    "    def fit(self, X, y, lr=0.01, max_iter=100):\n",
    "      \n",
    "        n, k = X.shape\n",
    "\n",
    "        if self.w is None:\n",
    "            self.w = np.random.randn(k + 1 if self.fit_intercept else k)\n",
    "        \n",
    "        X_train = np.hstack((X, np.ones((n, 1)))) if self.fit_intercept else X\n",
    "        \n",
    "        self.losses = []\n",
    "        \n",
    "        for iter_num in range(max_iter):\n",
    "            y_pred = self.predict(X)\n",
    "            self.losses.append(mean_squared_error(y_pred, y))\n",
    "\n",
    "            grad = self._calc_gradient(X_train, y, y_pred)\n",
    "\n",
    "            assert grad.shape == self.w.shape, f\"gradient shape {grad.shape} is not equal weight shape {self.w.shape}\"\n",
    "            self.w -= lr * grad\n",
    "\n",
    "        return self\n",
    "        \n",
    "    def predict(self, X):\n",
    "        n, k = X.shape\n",
    "        if self.fit_intercept:\n",
    "            X_train = np.hstack((X, np.ones((n, 1))))\n",
    "\n",
    "        y_pred = X_train @ self.w\n",
    "\n",
    "        return y_pred\n",
    "    def _calc_gradient(self, X, y, y_pred):\n",
    "        inds = np.random.choice(np.arange(X.shape[0]), size=self.n_sample, replace=False)\n",
    "        \n",
    "        grad = 2 * (y_pred[inds] - y[inds])[:, np.newaxis] * X[inds]\n",
    "        grad = grad.mean(axis=0)\n",
    "\n",
    "        return grad\n",
    "\n",
    "    def get_losses(self):\n",
    "        return self.losses\n",
    "    "
   ]
  },
  {
   "cell_type": "code",
   "execution_count": 7,
   "metadata": {},
   "outputs": [],
   "source": [
    "from sklearn.model_selection import train_test_split\n",
    "def linear_expression(x):\n",
    "    return 5 * x + 6\n",
    "objects_num = 50\n",
    "X = np.linspace(-5, 5, objects_num)\n",
    "y = linear_expression(X) + np.random.randn(objects_num) * 5\n",
    "\n",
    "X_train, X_test, y_train, y_test = train_test_split(X, y, train_size=0.5)"
   ]
  },
  {
   "cell_type": "markdown",
   "metadata": {},
   "source": [
    "Для градиентной оптимизации нужно рассчитать значение градиента $\\displaystyle\\frac{\\partial{L}}{\\partial{w}}$ : $$ L(w) = ||Xw - Y||^2_2 + ||\\Gamma w||^2_2 $$\n",
    "\n",
    "$$\n",
    "\\begin{aligned}L(w) &= ||Xw - Y||^2_2 + ||\\Gamma w||^2_2\n",
    "= (Xw - Y)^T(Xw - Y) + w^T\\Gamma^T\\Gamma w = \\\\\n",
    "&= w^TX^TXw - 2Y^TXw + Y^TY + w^T\\Gamma^T\\Gamma w =\n",
    "w^T(X^TX + \\Gamma^T\\Gamma)w - 2Y^TXw + Y^TY\n",
    "\\end{aligned}\n",
    "$$\n",
    "\n",
    "В нашем случае $\\Gamma^T\\Gamma = \\lambda I$, если нет свободного члена, иначе:\n",
    "$\\Gamma^T\\Gamma =\n",
    "\\left(\\begin{matrix}\n",
    "\\lambda I & 0 \\\\\n",
    "0 & 0\n",
    "\\end{matrix}\\right)$\n",
    "\n",
    "**Градиент:**\n",
    "$$\n",
    "\\frac{\\partial{L}}{\\partial{w}}\n",
    "= 2(X^TX + \\Gamma^T\\Gamma)w - 2X^TY\n",
    "$$\n",
    "Реализована модель стохастического градиентного спуска, потому мы будем усреднять ошибку по батчу данных $-> \\quad делить \\quad на \\quad \\frac{1}{n_{sample}}$"
   ]
  },
  {
   "cell_type": "code",
   "execution_count": 13,
   "metadata": {},
   "outputs": [],
   "source": [
    "from sklearn.metrics import mean_squared_error\n",
    "class MySGDRidge(MyLinearRegression):\n",
    "    def __init__(self, alpha=1.0,n_sample=10,  **kwargs):\n",
    "        super().__init__(**kwargs) # передает родительские параметры __init__\n",
    "        self.w = None\n",
    "        self.alpha = alpha\n",
    "        self.n_sample=n_sample\n",
    "\n",
    "    def _calc_gradient(self, X, y, y_pred):\n",
    "        inds = np.random.choice(np.arange(X.shape[0]), size=self.n_sample, replace=False)\n",
    "\n",
    "        lambdaI = self.alpha * np.eye(self.w.shape[0])\n",
    "        if self.fit_intercept:\n",
    "            lambdaI[-1, -1] = 0\n",
    "\n",
    "        grad = 2 * (X[inds].T @ X[inds] / self.n_sample + lambdaI) @ self.w\n",
    "        grad -= 2 * X[inds].T @ y[inds] / self.n_sample\n",
    "\n",
    "        return grad\n",
    "    def get_weights(self):\n",
    "        return self.w"
   ]
  },
  {
   "cell_type": "markdown",
   "metadata": {},
   "source": [
    "Давайте сравним ответы нашей модели с заданой функцией linear_expression"
   ]
  },
  {
   "cell_type": "code",
   "execution_count": 18,
   "metadata": {},
   "outputs": [
    {
     "data": {
      "image/png": "[encoded data removed]",
      "text/plain": [
       "<Figure size 720x504 with 1 Axes>"
      ]
     },
     "metadata": {
      "needs_background": "light"
     },
     "output_type": "display_data"
    }
   ],
   "source": [
    "model = MySGDRidge(alpha=1,n_sample=20)\n",
    "model.fit(X[:,np.newaxis], y , max_iter=1000,lr=0.01)\n",
    "weights = model.get_weights()\n",
    "\n",
    "import matplotlib.pyplot as plt\n",
    "\n",
    "plt.figure(figsize=(10, 7))\n",
    "plt.plot(X, linear_expression(X), label='истинная функция', c='g')\n",
    "\n",
    "plt.scatter(X_train, y_train, label='тренировочные точки')\n",
    "plt.scatter(X_test, y_test, label='тестовые точки')\n",
    "plt.plot(X, model.predict(X[:, np.newaxis]), label='предсказание', c='r')\n",
    "\n",
    "plt.grid(alpha=0.2)\n",
    "plt.legend()\n",
    "plt.show()\n"
   ]
  },
  {
   "cell_type": "markdown",
   "metadata": {},
   "source": [
    "Сравним нашу модель с моделью, реализованной в sklearn"
   ]
  },
  {
   "cell_type": "code",
   "execution_count": 23,
   "metadata": {},
   "outputs": [
    {
     "name": "stdout",
     "output_type": "stream",
     "text": [
      "[4.76806237] 5.823870900664518\n",
      "[4.26061988 5.78618938]\n"
     ]
    }
   ],
   "source": [
    "sklearn_reg=Ridge(1.0)\n",
    "sklearn_reg.fit(X[:,np.newaxis], y)\n",
    "list1=[]\n",
    "list1.append(sklearn_reg.coef_)\n",
    "list1.append(sklearn_reg.intercept_)\n",
    "print(*list1)\n",
    "print(weights)"
   ]
  },
  {
   "cell_type": "markdown",
   "metadata": {},
   "source": [
    "# Неплохо!"
   ]
  }
 ],
 "metadata": {
  "interpreter": {
   "hash": "e7370f93d1d0cde622a1f8e1c04877d8463912d04d973331ad4851f04de6915a"
  },
  "kernelspec": {
   "display_name": "Python 3.10.2 64-bit",
   "language": "python",
   "name": "python3"
  },
  "language_info": {
   "codemirror_mode": {
    "name": "ipython",
    "version": 3
   },
   "file_extension": ".py",
   "mimetype": "text/x-python",
   "name": "python",
   "nbconvert_exporter": "python",
   "pygments_lexer": "ipython3",
   "version": "3.10.4"
  },
  "orig_nbformat": 4
 },
 "nbformat": 4,
 "nbformat_minor": 2
}
